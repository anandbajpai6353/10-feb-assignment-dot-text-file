{
 "cells": [
  {
   "cell_type": "markdown",
   "id": "93893143-664e-4c1e-b41a-d873fc5a1df4",
   "metadata": {},
   "source": [
    "Q1. Which function is used to open a file? What are the different modes of opening a file? Explain each mode\n",
    "of file opening."
   ]
  },
  {
   "cell_type": "markdown",
   "id": "70fcc332-e42c-4303-8bce-b96af632323c",
   "metadata": {},
   "source": [
    "In Python, the `open()` function is used to open a file. It returns a file object that allows you to perform various operations on the file, such as reading, writing, or appending data.\n",
    "\n",
    "The `open()` function takes two parameters: the file name or file path and the mode in which the file should be opened. The syntax for the `open()` function is as follows:\n",
    "\n"
   ]
  },
  {
   "cell_type": "code",
   "execution_count": 12,
   "id": "a737c0f2-2758-4bcf-9eca-f61878398e08",
   "metadata": {},
   "outputs": [
    {
     "name": "stdout",
     "output_type": "stream",
     "text": [
      "Text file 'Anand.txt' created successfully.\n"
     ]
    }
   ],
   "source": [
    "def create_text_file(file_path, content):\n",
    "    try:\n",
    "        with open(file_path, \"w\") as file:\n",
    "            file.write(content)\n",
    "        print(f\"Text file '{file_path}' created successfully.\")\n",
    "    except Exception as e:\n",
    "        print(f\"An error occurred while creating the text file: {str(e)}\")\n",
    "\n",
    "# Provide the file path and content\n",
    "file_path = \"Anand.txt\"\n",
    "file_content = \"I am 25 year old, post graduate boy from a small town named 'Vapi' situated in southern Gujarat.\"\n",
    "\n",
    "# Call the function to create the text file\n",
    "create_text_file(file_path, file_content)\n",
    "\n",
    "\n"
   ]
  },
  {
   "cell_type": "code",
   "execution_count": 13,
   "id": "fd2c6a29-ffca-4745-b46d-e460eeecb7b6",
   "metadata": {},
   "outputs": [
    {
     "name": "stdout",
     "output_type": "stream",
     "text": [
      "Content of file 'Anand.txt':\n",
      "I am 25 year old, post graduate boy from a small town named 'Vapi' situated in southern Gujarat.\n"
     ]
    }
   ],
   "source": [
    "def read_text_file(file_path):\n",
    "    try:\n",
    "        with open(file_path, \"r\") as file:\n",
    "            content = file.read()\n",
    "        print(f\"Content of file '{file_path}':\")\n",
    "        print(content)\n",
    "    except Exception as e:\n",
    "        print(f\"An error occurred while reading the text file: {str(e)}\")\n",
    "\n",
    "# Provide the file path\n",
    "file_path = \"Anand.txt\"\n",
    "\n",
    "# Call the function to read the text file\n",
    "read_text_file(file_path)\n"
   ]
  },
  {
   "cell_type": "markdown",
   "id": "7b17dbbb-8e57-478c-bb85-d756a1267ec7",
   "metadata": {},
   "source": [
    "The `file` parameter represents the path or name of the file you want to open. The `mode` parameter specifies the mode in which you want to open the file. Here are the different modes you can use:\n",
    "\n",
    "1. `'r'`: Read mode (default)\n",
    "   - This mode allows you to read the contents of a file.\n",
    "   - The file must exist; otherwise, an error will be raised.\n",
    "   - The file pointer is positioned at the beginning of the file.\n",
    "\n",
    "2. `'w'`: Write mode\n",
    "   - This mode is used to write data to a file.\n",
    "   - If the file already exists, its contents will be truncated.\n",
    "   - If the file does not exist, a new file will be created.\n",
    "   - The file pointer is positioned at the beginning of the file.\n",
    "\n",
    "3. `'a'`: Append mode\n",
    "   - This mode is used to append data to the end of a file.\n",
    "   - If the file does not exist, a new file will be created.\n",
    "   - The file pointer is positioned at the end of the file.\n",
    "   - New data will be written after the existing content.\n",
    "\n",
    "4. `'x'`: Exclusive creation mode\n",
    "   - This mode is used to create a new file, but it raises an error if the file already exists.\n",
    "   - The file pointer is positioned at the beginning of the file.\n",
    "\n",
    "5. `'b'`: Binary mode\n",
    "   - This mode is used for binary file operations.\n",
    "   - It is appended to the other modes, e.g., `'rb'` or `'wb'`.\n",
    "   - This mode is used when working with non-text files, such as images or executables.\n",
    "\n",
    "6. `'t'`: Text mode (default)\n",
    "   - This mode is used for text file operations.\n",
    "   - It is the default mode and can be omitted.\n",
    "   - Text mode handles the file data as a string.\n",
    "\n",
    "\n"
   ]
  },
  {
   "cell_type": "markdown",
   "id": "feece29e-ed9b-4e93-a273-32237f486fca",
   "metadata": {},
   "source": []
  },
  {
   "cell_type": "raw",
   "id": "118ee90c-d64f-4ac7-bb1d-d74468c6e557",
   "metadata": {},
   "source": []
  },
  {
   "cell_type": "markdown",
   "id": "444b4840-a8e0-4dc3-ae48-1ddbfb7de3c6",
   "metadata": {},
   "source": [
    "Q2. Why close() function is used? Why is it important to close a file?"
   ]
  },
  {
   "cell_type": "markdown",
   "id": "4452f141-5743-4cbe-bef3-db1f17a70d9a",
   "metadata": {},
   "source": [
    "In Python, the `close()` function is used to close a file that has been opened for reading or writing. It is important to close a file after you have finished working with it for several reasons:\n",
    "\n",
    "1. **Resource management**: When you open a file, the operating system allocates certain resources to keep track of that file, such as file descriptors or handles. If you don't close the file properly, these resources may not be released until the program terminates or until the garbage collector cleans up the unused resources. By explicitly closing the file, you free up system resources, ensuring efficient resource management.\n",
    "\n",
    "2. **Data integrity**: When you write data to a file, it is typically stored in a buffer in memory before being physically written to the file on disk. The `close()` function flushes any remaining data from the buffer to the file before closing it. If you don't close the file, the data in the buffer may not be written to the file, leading to potential data loss or corruption.\n",
    "\n",
    "3. **Preventing file access issues**: Some operating systems or file systems may have restrictions on the number of files that can be open simultaneously by a process. If you open too many files without closing them, you may encounter \"too many open files\" errors, which can cause your program to crash or behave unexpectedly. Closing files when you're done with them helps avoid such issues.\n",
    "\n",
    "To ensure that files are properly closed even if an exception occurs, it's recommended to use the `with` statement along with the `open()` function. The `with` statement automatically takes care of closing the file once you're done with it, even if an exception is raised within the block. \n",
    "\n",
    "\n"
   ]
  },
  {
   "cell_type": "markdown",
   "id": "e15d7c28-2789-4075-aa53-2438d87b8957",
   "metadata": {},
   "source": [
    "In summary, closing a file using the \"close()\" function is important for proper resource management, data integrity, and avoiding potential file access issues."
   ]
  },
  {
   "cell_type": "raw",
   "id": "9a924f3f-9f53-46da-a51b-e921621dc525",
   "metadata": {},
   "source": []
  },
  {
   "cell_type": "raw",
   "id": "8a9e6bbf-c87d-47c0-bdc7-da3cd92b1290",
   "metadata": {},
   "source": []
  },
  {
   "cell_type": "markdown",
   "id": "c64f20a0-399b-43e1-b2a9-5d681a9523dd",
   "metadata": {},
   "source": [
    "Q3. Write a python program to create a text file. Write ‘I want to become a Data Scientist’ in that file. Then\n",
    "close the file. Open this file and read the content of the file."
   ]
  },
  {
   "cell_type": "code",
   "execution_count": 27,
   "id": "b365fa0f-a0bc-4c3a-be5a-b6311e4ef0c1",
   "metadata": {},
   "outputs": [
    {
     "name": "stdout",
     "output_type": "stream",
     "text": [
      "I want to become the best Data Scientist.'\n"
     ]
    }
   ],
   "source": [
    "# Create a text file and write content\n",
    "file_name = \"Anand_Bajpai25.txt\"\n",
    "content = \"I want to become the best Data Scientist.'\"\n",
    "\n",
    "# Write content to the file\n",
    "with open(file_name, 'w') as file:\n",
    "    file.write(content)\n",
    "\n",
    "# Read content from the file\n",
    "with open(file_name, 'r') as file:\n",
    "    file_content = file.read()\n",
    "\n",
    "# Print the content\n",
    "print(file_content)\n"
   ]
  },
  {
   "cell_type": "raw",
   "id": "c73ca9b0-7ebc-4293-b5f7-90366f29db5d",
   "metadata": {},
   "source": []
  },
  {
   "cell_type": "raw",
   "id": "28d27ad0-bae8-4868-8bc0-f8c5be19168a",
   "metadata": {},
   "source": []
  },
  {
   "cell_type": "markdown",
   "id": "cf4ebb1b-f4ab-4946-a6df-9124d8a578a6",
   "metadata": {},
   "source": [
    "Q4. Explain the following with python code: read(), readline() and readlines()."
   ]
  },
  {
   "cell_type": "markdown",
   "id": "805e2d5c-dd5c-426b-a573-779f29390203",
   "metadata": {},
   "source": [
    "In Python, the `read()`, `readline()`, and `readlines()` are methods used to read data from a file. Here's an explanation of each method along with an example code snippet:\n",
    "\n",
    "1. `read()`: This method reads the entire contents of a file and returns it as a string.\n",
    "\n"
   ]
  },
  {
   "cell_type": "code",
   "execution_count": 28,
   "id": "51991542-9f61-4cc2-8938-c9ba9afd21e0",
   "metadata": {},
   "outputs": [
    {
     "name": "stdout",
     "output_type": "stream",
     "text": [
      "I want to become the best Data Scientist.'\n"
     ]
    }
   ],
   "source": [
    "# Example using read()\n",
    "file_path = 'Anand_Bajpai25.txt'\n",
    "\n",
    "with open(file_path, 'r') as file:\n",
    "    content = file.read()\n",
    "    print(content)\n"
   ]
  },
  {
   "cell_type": "markdown",
   "id": "8ddbb205-50ab-4734-8d3d-d7488a89b31b",
   "metadata": {},
   "source": [
    "In this example, the `read()` method is used to read the contents of the file specified by `file_path`. The contents of the file are stored in the `content` variable, which is then printed. The `with` statement is used to open the file in read mode, and it automatically handles the file closing.\n",
    "\n",
    "2. `readline()`: This method reads a single line from the file and returns it as a string. It keeps track of the current position in the file, so successive calls to `readline()` will return subsequent lines.\n",
    "\n"
   ]
  },
  {
   "cell_type": "code",
   "execution_count": 29,
   "id": "044f65a1-282c-4c16-8904-16da7d7132f8",
   "metadata": {},
   "outputs": [
    {
     "name": "stdout",
     "output_type": "stream",
     "text": [
      "I want to become the best Data Scientist.'\n",
      "\n"
     ]
    }
   ],
   "source": [
    "# Example using readline()\n",
    "file_path = 'Anand_Bajpai25.txt'\n",
    "\n",
    "with open(file_path, 'r') as file:\n",
    "    line1 = file.readline()\n",
    "    line2 = file.readline()\n",
    "    print(line1)\n",
    "    print(line2)\n"
   ]
  },
  {
   "cell_type": "markdown",
   "id": "8d6676d4-a497-436c-bbe3-39e4a8bf6b24",
   "metadata": {},
   "source": [
    "\n",
    "\n",
    "In this example, the `readline()` method is used to read the first line of the file into the `line1` variable and the second line into the `line2` variable. Both lines are then printed.\n",
    "\n",
    "3. `readlines()`: This method reads all the lines of the file and returns them as a list of strings, where each string represents a line.\n",
    "\n"
   ]
  },
  {
   "cell_type": "code",
   "execution_count": 30,
   "id": "1a777d19-6a0f-4037-82a8-00aeccdcdf8b",
   "metadata": {},
   "outputs": [
    {
     "name": "stdout",
     "output_type": "stream",
     "text": [
      "I want to become the best Data Scientist.'\n"
     ]
    }
   ],
   "source": [
    "# Example using readlines()\n",
    "file_path = 'Anand_Bajpai25.txt'\n",
    "\n",
    "with open(file_path, 'r') as file:\n",
    "    lines = file.readlines()\n",
    "    for line in lines:\n",
    "        print(line)\n"
   ]
  },
  {
   "cell_type": "markdown",
   "id": "3e9d5f99-152f-4965-960f-e76d6c154de6",
   "metadata": {},
   "source": [
    "\n",
    "\n",
    "In this example, the `readlines()` method is used to read all the lines of the file into the `lines` list. Then, a loop is used to iterate over each line and print it.\n",
    "\n",
    "Note: In all the examples, `'example.txt'` is the file path that needs to be replaced with the actual path of the file you want to read."
   ]
  },
  {
   "cell_type": "raw",
   "id": "36e7a7f1-8825-41f6-8521-3f5ee87a1f30",
   "metadata": {},
   "source": []
  },
  {
   "cell_type": "raw",
   "id": "eae5faf7-7815-416d-9703-3bd36ff7c748",
   "metadata": {},
   "source": []
  },
  {
   "cell_type": "markdown",
   "id": "b6512bf8-48c8-4d46-a02e-f58460bd93ca",
   "metadata": {},
   "source": [
    "Q5. Explain why with statement is used with open(). What is the advantage of using with statement and\n",
    "open() together?"
   ]
  },
  {
   "cell_type": "markdown",
   "id": "691998db-8e7a-4f87-8518-1ee91f05e966",
   "metadata": {},
   "source": [
    "In Python, the `with` statement is used in conjunction with the `open()` function to ensure proper handling of resources, specifically when working with files. The `with` statement provides a convenient and concise way to manage the opening and closing of files, and it guarantees that the file will be closed correctly, even if an exception occurs during the execution of the code.\n",
    "\n",
    "When you open a file using the `open()` function without the `with` statement, you need to explicitly close the file after you finish working with it. Failing to do so can result in resource leaks and may lead to unexpected behavior. It's easy to forget to close the file, especially if there are multiple exit points or exceptions within the code.\n",
    "\n",
    "By using the `with` statement with the `open()` function, you eliminate the need for manual file closure. The `with` statement automatically takes care of closing the file once you're done with it, regardless of whether the code execution is successful or an exception occurs. This ensures that system resources are properly released and the file is closed in a clean and predictable manner.\n",
    "\n",
    "Here's an example to illustrate the usage of the `with` statement with `open()`:\n",
    "\n",
    "\n",
    "\n"
   ]
  },
  {
   "cell_type": "code",
   "execution_count": 31,
   "id": "e7278d53-638c-481a-9bd6-b281530a01ec",
   "metadata": {},
   "outputs": [
    {
     "name": "stdout",
     "output_type": "stream",
     "text": [
      "I want to become the best Data Scientist.'\n"
     ]
    }
   ],
   "source": [
    "with open('Anand_Bajpai25.txt', 'r') as file:\n",
    "    # Perform operations on the file\n",
    "    data = file.read()\n",
    "    print(data)\n",
    "    # No need to explicitly close the file\n"
   ]
  },
  {
   "cell_type": "markdown",
   "id": "c6dd47f1-4008-4a78-afda-a7fa4fcc35b7",
   "metadata": {},
   "source": [
    "In this example, the `with` statement creates a context within which the file is opened. The file object is assigned to the variable `file`, and you can perform any necessary operations on the file within the indented block. Once the block is exited, either normally or due to an exception, the file is automatically closed by the `with` statement.\n",
    "\n",
    "The advantage of using the `with` statement with `open()` is that it provides a cleaner and more reliable way to work with files. It helps prevent resource leaks, enhances code readability, and reduces the chances of errors caused by forgetting to close files. The combination of `with` and `open()` is considered the recommended approach for file handling in Python."
   ]
  },
  {
   "cell_type": "raw",
   "id": "fbcf9504-a547-4f95-8abc-b4822df7cd5b",
   "metadata": {},
   "source": []
  },
  {
   "cell_type": "raw",
   "id": "35d104fd-22fa-46b0-991b-a7f033a1eea7",
   "metadata": {},
   "source": []
  },
  {
   "cell_type": "markdown",
   "id": "5594b53c-4996-40fa-87b3-82567357b5d2",
   "metadata": {},
   "source": [
    "Q6. Explain the write() and writelines() functions. Give a suitable example."
   ]
  },
  {
   "cell_type": "markdown",
   "id": "27620fcf-16f6-45b2-bd30-91ba39283102",
   "metadata": {},
   "source": [
    "In Python, the `write()` and `writelines()` functions are used to write data to a file. Both functions are part of the file object returned by the `open()` function when a file is opened for writing.\n",
    "\n",
    "1. `write()` Function:\n",
    "The `write()` function is used to write a single string of data to a file. It takes a string as its argument and writes the content to the file. If the file doesn't exist, it will be created. If the file already exists, the `write()` function will overwrite the existing content with the new data.\n",
    "\n",
    "Here's an example that demonstrates the usage of the `write()` function:\n",
    "\n",
    "\n",
    "\n"
   ]
  },
  {
   "cell_type": "code",
   "execution_count": 33,
   "id": "b736ef8c-1ec8-4d72-84e5-4df69e33d4d6",
   "metadata": {},
   "outputs": [],
   "source": [
    "with open('Bajpai1998.txt', 'w') as file:\n",
    "    file.write('Hello, Pwskills!\\n')\n",
    "    file.write('Thank you very much.')\n"
   ]
  },
  {
   "cell_type": "markdown",
   "id": "40ec5841-86ea-4e74-b9fa-eeec15bb2506",
   "metadata": {},
   "source": [
    "In this example, the `open()` function is used with the `'w'` mode to open the file in write mode. \n",
    "\n",
    "\n",
    "\n"
   ]
  },
  {
   "cell_type": "markdown",
   "id": "c113f2f0-f743-4c8f-baa3-6c15e1113e7c",
   "metadata": {},
   "source": [
    "2. `writelines()` Function:\n",
    "The `writelines()` function is used to write multiple lines of data to a file. It takes an iterable (e.g., a list or a tuple) containing strings as its argument. Each string in the iterable represents a line of data to be written. If the file doesn't exist, it will be created. If the file already exists, the `writelines()` function will overwrite the existing content with the new data.\n",
    "\n",
    "Here's an example that demonstrates the usage of the `writelines()` function:\n",
    "\n",
    "\n",
    "\n"
   ]
  },
  {
   "cell_type": "code",
   "execution_count": 36,
   "id": "f76b2e36-a932-426f-933f-a157304eb020",
   "metadata": {},
   "outputs": [],
   "source": [
    "lines = ['I am Anand\\n', '25 years old\\n', 'learning data science\\n']\n",
    "\n",
    "with open('Bajpai1998.txt', 'w') as file:\n",
    "    file.writelines(lines)\n"
   ]
  },
  {
   "cell_type": "markdown",
   "id": "6f129f0c-1cc1-4259-8df2-b447a603084a",
   "metadata": {},
   "source": [
    "In this example, the `open()` function is used with the `'w'` mode to open the file in write mode. The `writelines()` function is then used to write three lines of text to the file. \n",
    "\n",
    "\n"
   ]
  },
  {
   "cell_type": "markdown",
   "id": "8198b812-af61-4244-9253-cad9e4439429",
   "metadata": {},
   "source": [
    "Note that the `writelines()` function does not automatically add newlines between the lines of data. It is necessary to include newline characters (`'\\n'`) at the end of each line if you want to write separate lines.\n",
    "\n",
    "Both the `write()` and `writelines()` functions are useful for writing data to files, and the choice between them depends on whether you want to write a single string or multiple lines of data."
   ]
  },
  {
   "cell_type": "code",
   "execution_count": 38,
   "id": "c15d6156-2733-4daa-a2db-48cf7254b149",
   "metadata": {},
   "outputs": [
    {
     "name": "stdout",
     "output_type": "stream",
     "text": [
      "I am Anand\n",
      "25 years old\n",
      "learning data science\n",
      "\n"
     ]
    }
   ],
   "source": [
    "with open('Bajpai1998.txt', 'r') as file:\n",
    "    data = file.read()\n",
    "    print(data)\n"
   ]
  },
  {
   "cell_type": "code",
   "execution_count": null,
   "id": "23b5abc0-4c2c-4b87-a51a-2a36e0728fc8",
   "metadata": {},
   "outputs": [],
   "source": []
  }
 ],
 "metadata": {
  "kernelspec": {
   "display_name": "Python 3 (ipykernel)",
   "language": "python",
   "name": "python3"
  },
  "language_info": {
   "codemirror_mode": {
    "name": "ipython",
    "version": 3
   },
   "file_extension": ".py",
   "mimetype": "text/x-python",
   "name": "python",
   "nbconvert_exporter": "python",
   "pygments_lexer": "ipython3",
   "version": "3.10.8"
  }
 },
 "nbformat": 4,
 "nbformat_minor": 5
}
